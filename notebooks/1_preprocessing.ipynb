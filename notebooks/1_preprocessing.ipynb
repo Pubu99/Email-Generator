{
 "cells": [
  {
   "cell_type": "code",
   "execution_count": null,
   "id": "1a5d43f6",
   "metadata": {},
   "outputs": [],
   "source": [
    "# notebooks/1_preprocessing.ipynb\n",
    "\n",
    "import pandas as pd\n",
    "import re\n",
    "\n",
    "# Load dataset\n",
    "df = pd.read_csv('../data/raw_enron.csv')\n",
    "\n",
    "# Inspect columns (usually: 'subject', 'message', ...)\n",
    "print(df.columns)\n",
    "\n",
    "# Combine subject + message as email_text\n",
    "df['email_text'] = df['subject'].fillna('') + ' ' + df['message'].fillna('')\n",
    "\n",
    "# Basic cleaning function\n",
    "def clean_text(text):\n",
    "    text = re.sub(r'\\n+', ' ', text)  # Remove newlines\n",
    "    text = re.sub(r'\\s+', ' ', text).strip()\n",
    "    return text\n",
    "\n",
    "df['email_text'] = df['email_text'].apply(clean_text)\n",
    "\n",
    "# For demo, let's create a small sample with labels manually (simulate)\n",
    "sample = df[['email_text']].sample(500, random_state=42).copy()\n",
    "\n",
    "# Manually add labels for demo (simulate a label column with random categories)\n",
    "import random\n",
    "labels = ['meeting_request', 'complaint', 'social', 'task_update', 'general']\n",
    "sample['label'] = [random.choice(labels) for _ in range(len(sample))]\n",
    "\n",
    "# Save labeled data for training\n",
    "sample.to_csv('../data/labeled_emails.csv', index=False)\n",
    "\n",
    "print(\"Preprocessing Done! Labeled data saved.\")\n"
   ]
  }
 ],
 "metadata": {
  "kernelspec": {
   "display_name": ".venv",
   "language": "python",
   "name": "python3"
  },
  "language_info": {
   "name": "python",
   "version": "3.12.4"
  }
 },
 "nbformat": 4,
 "nbformat_minor": 5
}
